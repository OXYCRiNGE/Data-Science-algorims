{
 "cells": [
  {
   "cell_type": "code",
   "execution_count": 1,
   "id": "ce514598",
   "metadata": {},
   "outputs": [],
   "source": [
    "%matplotlib inline\n",
    "import numpy as np\n",
    "import pandas as pd\n",
    "from sklearn.model_selection import train_test_split\n",
    "from sklearn.linear_model import LinearRegression"
   ]
  },
  {
   "cell_type": "code",
   "execution_count": 2,
   "id": "f87c26a6",
   "metadata": {},
   "outputs": [
    {
     "name": "stdout",
     "output_type": "stream",
     "text": [
      "<class 'pandas.core.frame.DataFrame'>\n",
      "RangeIndex: 8784 entries, 0 to 8783\n",
      "Data columns (total 4 columns):\n",
      " #   Column         Non-Null Count  Dtype  \n",
      "---  ------         --------------  -----  \n",
      " 0   building_id    8784 non-null   int64  \n",
      " 1   meter          8784 non-null   int64  \n",
      " 2   timestamp      8784 non-null   object \n",
      " 3   meter_reading  8784 non-null   float64\n",
      "dtypes: float64(1), int64(2), object(1)\n",
      "memory usage: 274.6+ KB\n",
      "None\n"
     ]
    }
   ],
   "source": [
    "building = pd.read_csv(\"../../dataset/building_metadata.csv.gz\")\n",
    "weather = pd.read_csv(\"../../dataset/weather_train.csv.gz\")\n",
    "energy_0 = pd.read_csv(\"../../dataset/train.0.0.csv.gz\")\n",
    "print(energy_0.info())"
   ]
  },
  {
   "cell_type": "code",
   "execution_count": 3,
   "id": "b4e8a4ba",
   "metadata": {},
   "outputs": [
    {
     "name": "stdout",
     "output_type": "stream",
     "text": [
      "               timestamp  site_id  building_id  meter  meter_reading  \\\n",
      "704  2016-01-30 08:00:00        0            0      0        43.6839   \n",
      "725  2016-01-31 05:00:00        0            0      0        37.5408   \n",
      "737  2016-01-31 17:00:00        0            0      0        52.5571   \n",
      "2366 2016-04-08 14:00:00        0            0      0        59.3827   \n",
      "2923 2016-05-01 19:00:00        0            0      0       448.0000   \n",
      "\n",
      "     primary_use  square_feet  year_built  floor_count  air_temperature  \\\n",
      "704    Education         7432      2008.0          NaN              8.3   \n",
      "725    Education         7432      2008.0          NaN             12.8   \n",
      "737    Education         7432      2008.0          NaN             20.6   \n",
      "2366   Education         7432      2008.0          NaN             21.7   \n",
      "2923   Education         7432      2008.0          NaN             31.1   \n",
      "\n",
      "      cloud_coverage  dew_temperature  precip_depth_1_hr  sea_level_pressure  \\\n",
      "704              NaN              6.1                0.0              1019.0   \n",
      "725              NaN             10.0                0.0              1021.9   \n",
      "737              NaN             11.7                0.0              1020.9   \n",
      "2366             2.0             14.4                0.0              1015.1   \n",
      "2923             NaN             17.2                0.0              1016.1   \n",
      "\n",
      "      wind_direction  wind_speed  hour  \n",
      "704            220.0         2.1     8  \n",
      "725              0.0         0.0     5  \n",
      "737            110.0         1.5    17  \n",
      "2366           250.0         3.1    14  \n",
      "2923           100.0         4.1    19  \n"
     ]
    }
   ],
   "source": [
    "energy_0 = pd.merge(left=energy_0, right=building, how='left', left_on='building_id', right_on='building_id')\n",
    "energy_0.set_index(['timestamp', 'site_id'], inplace=True)\n",
    "weather.set_index(['timestamp', 'site_id'], inplace=True)\n",
    "energy_0 = pd.merge(left=energy_0, right=weather, how='left', left_index=True, right_index=True)\n",
    "energy_0.reset_index(inplace=True)\n",
    "energy_0 = energy_0[energy_0['meter_reading'] > 0]\n",
    "energy_0['timestamp'] = pd.to_datetime(energy_0['timestamp'])\n",
    "energy_0['hour'] = energy_0['timestamp'].dt.hour\n",
    "print(energy_0.head())"
   ]
  },
  {
   "cell_type": "code",
   "execution_count": 4,
   "id": "5224dab8",
   "metadata": {},
   "outputs": [
    {
     "name": "stdout",
     "output_type": "stream",
     "text": [
      "               timestamp  site_id  building_id  meter  meter_reading  \\\n",
      "5679 2016-08-24 15:00:00        0            0      0        243.674   \n",
      "6935 2016-10-15 23:00:00        0            0      0        264.833   \n",
      "4454 2016-07-04 14:00:00        0            0      0        253.230   \n",
      "6053 2016-09-09 05:00:00        0            0      0        253.230   \n",
      "6410 2016-09-24 02:00:00        0            0      0        238.896   \n",
      "\n",
      "     primary_use  square_feet  year_built  floor_count  air_temperature  \\\n",
      "5679   Education         7432      2008.0          NaN             26.1   \n",
      "6935   Education         7432      2008.0          NaN             26.1   \n",
      "4454   Education         7432      2008.0          NaN             30.6   \n",
      "6053   Education         7432      2008.0          NaN             24.4   \n",
      "6410   Education         7432      2008.0          NaN             27.2   \n",
      "\n",
      "      cloud_coverage  dew_temperature  precip_depth_1_hr  sea_level_pressure  \\\n",
      "5679             NaN             23.9               -1.0                 NaN   \n",
      "6935             NaN             21.1                0.0              1018.5   \n",
      "4454             2.0             24.4                0.0              1021.5   \n",
      "6053             2.0             21.7                0.0              1017.7   \n",
      "6410             4.0             23.9               -1.0              1016.2   \n",
      "\n",
      "      wind_direction  wind_speed  hour  \n",
      "5679            80.0         8.2    15  \n",
      "6935            70.0         6.2    23  \n",
      "4454           170.0         2.1    14  \n",
      "6053            10.0         2.1     5  \n",
      "6410            60.0         3.1     2  \n"
     ]
    }
   ],
   "source": [
    "energy_0_train, energy_0_test = train_test_split(energy_0, test_size=0.2)\n",
    "print(energy_0_train.head())"
   ]
  },
  {
   "cell_type": "code",
   "execution_count": 5,
   "id": "6720c150",
   "metadata": {},
   "outputs": [
    {
     "name": "stdout",
     "output_type": "stream",
     "text": [
      "[2.27726879 4.09098108] 101.55332808469674\n"
     ]
    }
   ],
   "source": [
    "energy_0_train_averages = energy_0_train.groupby('hour')['meter_reading'].mean()\n",
    "energy_0_train_lr = pd.DataFrame(energy_0_train, columns=['meter_reading', 'air_temperature', 'dew_temperature'])\n",
    "y = energy_0_train_lr['meter_reading']\n",
    "x = energy_0_train_lr.drop(labels=['meter_reading'], axis=1)\n",
    "model = LinearRegression().fit(x,y)\n",
    "print(model.coef_, model.intercept_)"
   ]
  },
  {
   "cell_type": "code",
   "execution_count": 6,
   "id": "cfd13aec",
   "metadata": {},
   "outputs": [
    {
     "name": "stdout",
     "output_type": "stream",
     "text": [
      "Количество среднего: 0.2683832121191359\n",
      "Количество линейной регрессии: 0.23163338137714495\n"
     ]
    }
   ],
   "source": [
    "def calculate_model(x):\n",
    "    meter_reading_log = np.log(x.meter_reading + 1)\n",
    "    meter_reading_mean= np.log(energy_0_train_averages[x.hour]+1)\n",
    "    meter_reading_lr = np.log(1 + x.air_temperature * model.coef_[0] +\n",
    "                                  x.dew_temperature * model.coef_[1] +\n",
    "                                  model.intercept_)\n",
    "    x['meter_reading_lr_q'] = (meter_reading_log - meter_reading_lr)**2\n",
    "    x['meter_reading_mean_q'] = (meter_reading_log - meter_reading_mean)**2\n",
    "    return x\n",
    "energy_0_test = energy_0_test.apply(calculate_model, axis=1, result_type='expand')\n",
    "energy_0_test_lr_rmsle = np.sqrt(energy_0_test['meter_reading_lr_q'].sum()/len(energy_0_test))\n",
    "energy_0_test_mean_rmsle = np.sqrt(energy_0_test['meter_reading_mean_q'].sum()/len(energy_0_test))\n",
    "print(f'Количество среднего: {energy_0_test_mean_rmsle}')\n",
    "print(f'Количество линейной регрессии: {energy_0_test_lr_rmsle}')"
   ]
  }
 ],
 "metadata": {
  "kernelspec": {
   "display_name": "Python 3",
   "language": "python",
   "name": "python3"
  },
  "language_info": {
   "codemirror_mode": {
    "name": "ipython",
    "version": 3
   },
   "file_extension": ".py",
   "mimetype": "text/x-python",
   "name": "python",
   "nbconvert_exporter": "python",
   "pygments_lexer": "ipython3",
   "version": "3.12.4"
  }
 },
 "nbformat": 4,
 "nbformat_minor": 5
}
