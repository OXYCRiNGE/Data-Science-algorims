{
 "cells": [
  {
   "cell_type": "code",
   "execution_count": 57,
   "id": "be8e4d40",
   "metadata": {},
   "outputs": [],
   "source": [
    "%matplotlib inline\n",
    "import pandas as pd\n",
    "import numpy as np\n",
    "from sklearn.model_selection import train_test_split\n",
    "from matplotlib.pyplot import rcParams\n",
    "rcParams['figure.figsize'] = 16, 8"
   ]
  },
  {
   "cell_type": "code",
   "execution_count": 58,
   "id": "6ac23375",
   "metadata": {},
   "outputs": [
    {
     "name": "stdout",
     "output_type": "stream",
     "text": [
      "      building_id  meter           timestamp  meter_reading  hour\n",
      "704             0      0 2016-01-30 08:00:00        43.6839     8\n",
      "725             0      0 2016-01-31 05:00:00        37.5408     5\n",
      "737             0      0 2016-01-31 17:00:00        52.5571    17\n",
      "2366            0      0 2016-04-08 14:00:00        59.3827    14\n",
      "2923            0      0 2016-05-01 19:00:00       448.0000    19\n"
     ]
    }
   ],
   "source": [
    "energy_0 = pd.read_csv('../../dataset/train.0.0.csv.gz')\n",
    "energy_0 = energy_0[energy_0['meter_reading']>0]\n",
    "energy_0['timestamp'] = pd.to_datetime(energy_0['timestamp'])\n",
    "energy_0['hour'] = energy_0['timestamp'].dt.hour\n",
    "print(energy_0.head())"
   ]
  },
  {
   "cell_type": "code",
   "execution_count": 59,
   "id": "f5da6fd8",
   "metadata": {},
   "outputs": [
    {
     "name": "stdout",
     "output_type": "stream",
     "text": [
      "      building_id  meter           timestamp  meter_reading  hour\n",
      "8063            0      0 2016-12-01 23:00:00        186.339    23\n",
      "5514            0      0 2016-08-17 18:00:00        310.565    18\n",
      "5296            0      0 2016-08-08 16:00:00        316.025    16\n",
      "8778            0      0 2016-12-31 18:00:00        215.006    18\n",
      "7255            0      0 2016-10-29 07:00:00        210.911     7\n"
     ]
    }
   ],
   "source": [
    "energy_0_train, energy_0_test = train_test_split(energy_0, test_size=0.2)\n",
    "print(energy_0_train.head())"
   ]
  },
  {
   "cell_type": "code",
   "execution_count": 60,
   "id": "e0ea818a",
   "metadata": {},
   "outputs": [
    {
     "name": "stdout",
     "output_type": "stream",
     "text": [
      "         Среднее   Медиана\n",
      "hour                      \n",
      "0     238.836757  239.5790\n",
      "1     239.147773  240.2610\n",
      "2     240.638328  242.3090\n",
      "3     239.609180  244.3570\n",
      "4     239.022647  246.4045\n",
      "5     240.733725  246.0630\n",
      "6     237.274081  245.0390\n",
      "7     238.628381  246.4040\n",
      "8     242.581172  239.5790\n",
      "9     234.781514  235.4830\n",
      "10    234.518965  238.2140\n",
      "11    235.880467  241.6260\n",
      "12    235.628473  242.6500\n",
      "13    237.244396  245.0390\n",
      "14    234.629169  241.6260\n",
      "15    235.713419  242.3090\n",
      "16    234.273124  241.6260\n",
      "17    236.338387  240.6025\n",
      "18    236.169610  238.8960\n",
      "19    237.659319  237.8725\n",
      "20    236.432311  236.8480\n",
      "21    235.460808  236.8480\n",
      "22    240.226905  238.8960\n",
      "23    240.348907  239.5790\n"
     ]
    }
   ],
   "source": [
    "energy_0_train_hours = energy_0_train.groupby('hour')\n",
    "energy_0_train_averages = pd.DataFrame(\n",
    "    {\"Среднее\": energy_0_train_hours.mean()['meter_reading'],\n",
    "     \"Медиана\": energy_0_train_hours.median()['meter_reading']})\n",
    "print(energy_0_train_averages)"
   ]
  },
  {
   "cell_type": "code",
   "execution_count": 61,
   "id": "dc0810cf",
   "metadata": {},
   "outputs": [
    {
     "name": "stdout",
     "output_type": "stream",
     "text": [
      "      building_id  meter           timestamp  meter_reading  hour  \\\n",
      "3464            0      0 2016-05-24 08:00:00       256.6430     8   \n",
      "8543            0      0 2016-12-21 23:00:00       176.7830    23   \n",
      "5262            0      0 2016-08-07 06:00:00       322.1680     6   \n",
      "6655            0      0 2016-10-04 07:00:00       249.1350     7   \n",
      "725             0      0 2016-01-31 05:00:00        37.5408     5   \n",
      "\n",
      "      meter_reading_mean_q  meter_reading_median_q  meter_reading_zero_q  \n",
      "3464              0.003150                0.004696             30.819984  \n",
      "8543              0.093440                0.091497             26.838240  \n",
      "5262              0.092873                0.074356             33.387275  \n",
      "6655              0.001841                0.000121             30.492493  \n",
      "725               3.371334                3.451889             13.335040  \n"
     ]
    }
   ],
   "source": [
    "def calculate_model(x):\n",
    "    meter_readind_log = np.log(x.meter_reading + 1)\n",
    "    meter_readind_mean = np.log(energy_0_train_averages['Среднее'][x.hour] + 1)\n",
    "    meter_readind_median = np.log(energy_0_train_averages['Медиана'][x.hour] + 1)\n",
    "    x['meter_reading_mean_q'] = (meter_readind_log - meter_readind_mean)**2\n",
    "    x['meter_reading_median_q'] = (meter_readind_log - meter_readind_median)**2\n",
    "    x['meter_reading_zero_q'] = (meter_readind_log)**2\n",
    "    return x\n",
    "\n",
    "energy_0_test = energy_0_test.apply(calculate_model, axis=1, result_type=\"expand\")\n",
    "print(energy_0_test.head())"
   ]
  },
  {
   "cell_type": "code",
   "execution_count": 62,
   "id": "5ba7b5ab",
   "metadata": {},
   "outputs": [
    {
     "name": "stdout",
     "output_type": "stream",
     "text": [
      "Количество среднего: 0.2448269278489756\n",
      "Количество медианы: 0.2464298984016869\n",
      "Количество нуля: 5.458440306885124\n"
     ]
    }
   ],
   "source": [
    "energy_0_test_mean_rmsle = np.sqrt(energy_0_test['meter_reading_mean_q'].sum()/len(energy_0_test))\n",
    "energy_0_test_median_rmsle = np.sqrt(energy_0_test['meter_reading_median_q'].sum()/len(energy_0_test))\n",
    "energy_0_test_zero_rmsle = np.sqrt(energy_0_test['meter_reading_zero_q'].sum()/len(energy_0_test))\n",
    "print(f'Количество среднего: {energy_0_test_mean_rmsle}')\n",
    "print(f'Количество медианы: {energy_0_test_median_rmsle}')\n",
    "print(f'Количество нуля: {energy_0_test_zero_rmsle}')"
   ]
  }
 ],
 "metadata": {
  "kernelspec": {
   "display_name": "Python 3",
   "language": "python",
   "name": "python3"
  },
  "language_info": {
   "codemirror_mode": {
    "name": "ipython",
    "version": 3
   },
   "file_extension": ".py",
   "mimetype": "text/x-python",
   "name": "python",
   "nbconvert_exporter": "python",
   "pygments_lexer": "ipython3",
   "version": "3.12.4"
  }
 },
 "nbformat": 4,
 "nbformat_minor": 5
}
