{
 "cells": [
  {
   "cell_type": "code",
   "execution_count": 1,
   "id": "be8e4d40",
   "metadata": {},
   "outputs": [],
   "source": [
    "%matplotlib inline\n",
    "import pandas as pd\n",
    "import numpy as np\n",
    "from sklearn.model_selection import train_test_split\n",
    "from matplotlib.pyplot import rcParams\n",
    "rcParams['figure.figsize'] = 16, 8"
   ]
  },
  {
   "cell_type": "code",
   "execution_count": 2,
   "id": "6ac23375",
   "metadata": {},
   "outputs": [
    {
     "name": "stdout",
     "output_type": "stream",
     "text": [
      "      building_id  meter           timestamp  meter_reading  hour\n",
      "704             0      0 2016-01-30 08:00:00        43.6839     8\n",
      "725             0      0 2016-01-31 05:00:00        37.5408     5\n",
      "737             0      0 2016-01-31 17:00:00        52.5571    17\n",
      "2366            0      0 2016-04-08 14:00:00        59.3827    14\n",
      "2923            0      0 2016-05-01 19:00:00       448.0000    19\n"
     ]
    }
   ],
   "source": [
    "energy_0 = pd.read_csv('../../dataset/train.0.0.csv.gz')\n",
    "energy_0 = energy_0[energy_0['meter_reading']>0]\n",
    "energy_0['timestamp'] = pd.to_datetime(energy_0['timestamp'])\n",
    "energy_0['hour'] = energy_0['timestamp'].dt.hour\n",
    "print(energy_0.head())"
   ]
  },
  {
   "cell_type": "code",
   "execution_count": 3,
   "id": "f5da6fd8",
   "metadata": {},
   "outputs": [
    {
     "name": "stdout",
     "output_type": "stream",
     "text": [
      "      building_id  meter           timestamp  meter_reading  hour\n",
      "7612            0      0 2016-11-13 04:00:00        221.149     4\n",
      "5945            0      0 2016-09-04 17:00:00        236.848    17\n",
      "5316            0      0 2016-08-09 12:00:00        303.739    12\n",
      "6618            0      0 2016-10-02 18:00:00        235.483    18\n",
      "4308            0      0 2016-06-28 12:00:00        247.769    12\n"
     ]
    }
   ],
   "source": [
    "energy_0_train, energy_0_test = train_test_split(energy_0, test_size=0.2)\n",
    "print(energy_0_train.head())"
   ]
  },
  {
   "cell_type": "code",
   "execution_count": 4,
   "id": "e0ea818a",
   "metadata": {},
   "outputs": [
    {
     "name": "stdout",
     "output_type": "stream",
     "text": [
      "         Среднее   Медиана\n",
      "hour                      \n",
      "0     237.162856  239.5790\n",
      "1     240.222883  240.9440\n",
      "2     240.701830  243.6740\n",
      "3     241.029573  244.3570\n",
      "4     241.839398  246.4040\n",
      "5     236.547261  245.3805\n",
      "6     237.693697  243.6740\n",
      "7     240.096361  245.3805\n",
      "8     243.595687  239.5790\n",
      "9     234.679617  235.1420\n",
      "10    236.532546  238.8960\n",
      "11    236.190235  241.6260\n",
      "12    237.110643  243.6740\n",
      "13    237.500814  243.6740\n",
      "14    235.562514  241.6260\n",
      "15    237.028661  242.3090\n",
      "16    238.992558  242.9910\n",
      "17    234.929695  240.2610\n",
      "18    234.608409  238.8960\n",
      "19    237.564556  237.5310\n",
      "20    236.560229  236.8480\n",
      "21    238.091554  238.8960\n",
      "22    238.494608  238.2140\n",
      "23    238.447223  239.5790\n"
     ]
    }
   ],
   "source": [
    "energy_0_train_hours = energy_0_train.groupby('hour')\n",
    "energy_0_train_averages = pd.DataFrame(\n",
    "    {\"Среднее\": energy_0_train_hours.mean()['meter_reading'],\n",
    "     \"Медиана\": energy_0_train_hours.median()['meter_reading']})\n",
    "print(energy_0_train_averages)"
   ]
  },
  {
   "cell_type": "code",
   "execution_count": 5,
   "id": "dc0810cf",
   "metadata": {},
   "outputs": [
    {
     "name": "stdout",
     "output_type": "stream",
     "text": [
      "      building_id  meter           timestamp  meter_reading  hour  \\\n",
      "5940            0      0 2016-09-04 12:00:00       242.3090    12   \n",
      "8244            0      0 2016-12-09 12:00:00        95.5584    12   \n",
      "8090            0      0 2016-12-03 02:00:00       169.2750     2   \n",
      "4113            0      0 2016-06-20 09:00:00       260.7380     9   \n",
      "4336            0      0 2016-06-29 16:00:00       247.7690    16   \n",
      "\n",
      "      meter_reading_mean_q  meter_reading_median_q  meter_reading_zero_q  \n",
      "5940              0.000466                0.000031             30.187687  \n",
      "8244              0.814664                0.864488             20.886253  \n",
      "8090              0.122703                0.131415             26.393031  \n",
      "4113              0.010998                0.010591             30.995319  \n",
      "4336              0.001290                0.000376             30.432045  \n"
     ]
    }
   ],
   "source": [
    "def calculate_model(x):\n",
    "    meter_readind_log = np.log(x.meter_reading + 1)\n",
    "    meter_readind_mean = np.log(energy_0_train_averages['Среднее'][x.hour] + 1)\n",
    "    meter_readind_median = np.log(energy_0_train_averages['Медиана'][x.hour] + 1)\n",
    "    x['meter_reading_mean_q'] = (meter_readind_log - meter_readind_mean)**2\n",
    "    x['meter_reading_median_q'] = (meter_readind_log - meter_readind_median)**2\n",
    "    x['meter_reading_zero_q'] = (meter_readind_log)**2\n",
    "    return x\n",
    "\n",
    "energy_0_test = energy_0_test.apply(calculate_model, axis=1, result_type=\"expand\")\n",
    "print(energy_0_test.head())"
   ]
  },
  {
   "cell_type": "code",
   "execution_count": 6,
   "id": "5ba7b5ab",
   "metadata": {},
   "outputs": [
    {
     "name": "stdout",
     "output_type": "stream",
     "text": [
      "Количество среднего: 0.2629727225722524\n",
      "Количество медианы: 0.26540346271989473\n",
      "Количество нуля: 5.449382285232245\n"
     ]
    }
   ],
   "source": [
    "energy_0_test_mean_rmsle = np.sqrt(energy_0_test['meter_reading_mean_q'].sum()/len(energy_0_test))\n",
    "energy_0_test_median_rmsle = np.sqrt(energy_0_test['meter_reading_median_q'].sum()/len(energy_0_test))\n",
    "energy_0_test_zero_rmsle = np.sqrt(energy_0_test['meter_reading_zero_q'].sum()/len(energy_0_test))\n",
    "print(f'Количество среднего: {energy_0_test_mean_rmsle}')\n",
    "print(f'Количество медианы: {energy_0_test_median_rmsle}')\n",
    "print(f'Количество нуля: {energy_0_test_zero_rmsle}')"
   ]
  }
 ],
 "metadata": {
  "kernelspec": {
   "display_name": "Python 3",
   "language": "python",
   "name": "python3"
  },
  "language_info": {
   "codemirror_mode": {
    "name": "ipython",
    "version": 3
   },
   "file_extension": ".py",
   "mimetype": "text/x-python",
   "name": "python",
   "nbconvert_exporter": "python",
   "pygments_lexer": "ipython3",
   "version": "3.12.4"
  }
 },
 "nbformat": 4,
 "nbformat_minor": 5
}
